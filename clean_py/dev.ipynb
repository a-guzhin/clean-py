{
 "cells": [
  {
   "cell_type": "code",
   "execution_count": null,
   "metadata": {},
   "outputs": [],
   "source": [
    "from .clean_py import "
   ]
  },
  {
   "cell_type": "code",
   "execution_count": 4,
   "metadata": {},
   "outputs": [
    {
     "name": "stdout",
     "output_type": "stream",
     "text": [
      "x = {\"a\": 37, \"b\": 42, \"c\": 927}\n",
      "\n",
      "x = 123456789.123456789e123456789\n",
      "\n",
      "if (\n",
      "    very_long_variable_name is not None\n",
      "    and very_long_variable_name.field > 0\n",
      "    or very_long_variable_name.is_debug\n",
      "):\n",
      "    z = \"hello \" + \"world\"\n",
      "else:\n",
      "    world = \"world\"\n",
      "    a = \"hello {}\".format(world)\n",
      "    f = rf\"hello {world}\"\n",
      "if this and that:\n",
      "    y = \"hello \" \"world\"  # FIXME: https://github.com/python/black/issues/26\n",
      "\n",
      "\n",
      "class Foo(object):\n",
      "    def f(self):\n",
      "        return 37 * -2\n",
      "\n",
      "    def g(self, x, y=42):\n",
      "        return y\n",
      "\n",
      "\n",
      "def f(a: List[int]):\n",
      "    return 37 - a[42 - u : y**3]\n",
      "\n",
      "\n",
      "def very_important_function(\n",
      "    template: str,\n",
      "    *variables,\n",
      "    file: os.PathLike,\n",
      "    debug: bool = False,\n",
      "):\n",
      "    with open(file, \"w\") as f:\n",
      "        ...\n",
      "\n",
      "\n",
      "# fmt: off\n",
      "custom_formatting = [\n",
      "    0,  1,  2,\n",
      "    3,  4,  5,\n",
      "    6,  7,  8,\n",
      "]\n",
      "# fmt: on\n",
      "regular_formatting = [\n",
      "    0,\n",
      "    1,\n",
      "    2,\n",
      "    3,\n",
      "    4,\n",
      "    5,\n",
      "    6,\n",
      "    7,\n",
      "    8,\n",
      "]\n",
      "\n"
     ]
    }
   ],
   "source": [
    "x = \"\"\"x = {\"a\": 37, \"b\": 42, \"c\": 927}\\n\\nx = 123456789.123456789e123456789\\n\\nif (\\n    very_long_variable_name is not None\\n    and very_long_variable_name.field > 0\\n    or very_long_variable_name.is_debug\\n):\\n    z = \"hello \" + \"world\"\\nelse:\\n    world = \"world\"\\n    a = \"hello {}\".format(world)\\n    f = rf\"hello {world}\"\\nif this and that:\\n    y = \"hello \" \"world\"  # FIXME: https://github.com/python/black/issues/26\\n\\n\\nclass Foo(object):\\n    def f(self):\\n        return 37 * -2\\n\\n    def g(self, x, y=42):\\n        return y\\n\\n\\ndef f(a: List[int]):\\n    return 37 - a[42 - u : y**3]\\n\\n\\ndef very_important_function(\\n    template: str,\\n    *variables,\\n    file: os.PathLike,\\n    debug: bool = False,\\n):\\n    with open(file, \"w\") as f:\\n        ...\\n\\n\\n# fmt: off\\ncustom_formatting = [\\n    0,  1,  2,\\n    3,  4,  5,\\n    6,  7,  8,\\n]\\n# fmt: on\\nregular_formatting = [\\n    0,\\n    1,\\n    2,\\n    3,\\n    4,\\n    5,\\n    6,\\n    7,\\n    8,\\n]\\n\"\"\"\n",
    "\n",
    "print(x)"
   ]
  },
  {
   "cell_type": "code",
   "execution_count": 7,
   "metadata": {},
   "outputs": [
    {
     "name": "stderr",
     "output_type": "stream",
     "text": [
      "usage: clean_py [-h] [--py PY] [--ipynb IPYNB] [--autoflake AUTOFLAKE]\n",
      "                [--isort ISORT] [--black BLACK]\n",
      "                path\n",
      "clean_py: error: the following arguments are required: path\n"
     ]
    }
   ],
   "source": []
  },
  {
   "cell_type": "code",
   "execution_count": 10,
   "metadata": {},
   "outputs": [
    {
     "ename": "AssertionError",
     "evalue": "",
     "output_type": "error",
     "traceback": [
      "\u001b[0;31m---------------------------------------------------------------------------\u001b[0m",
      "\u001b[0;31mAssertionError\u001b[0m                            Traceback (most recent call last)",
      "\u001b[1;32m/Users/samhardy/Desktop/clean-py/clean_py/dev.ipynb Cell 4'\u001b[0m in \u001b[0;36m<cell line: 1>\u001b[0;34m()\u001b[0m\n\u001b[0;32m----> <a href='vscode-notebook-cell:/Users/samhardy/Desktop/clean-py/clean_py/dev.ipynb#ch0000003?line=0'>1</a>\u001b[0m \u001b[39massert\u001b[39;00m res\u001b[39m.\u001b[39mreturncode \u001b[39m==\u001b[39m \u001b[39m0\u001b[39m\n",
      "\u001b[0;31mAssertionError\u001b[0m: "
     ]
    }
   ],
   "source": []
  }
 ],
 "metadata": {
  "kernelspec": {
   "display_name": "Python 3",
   "language": "python",
   "name": "python3"
  },
  "language_info": {
   "codemirror_mode": {
    "name": "ipython",
    "version": 3
   },
   "file_extension": ".py",
   "mimetype": "text/x-python",
   "name": "python",
   "nbconvert_exporter": "python",
   "pygments_lexer": "ipython3",
   "version": "3.9.12"
  }
 },
 "nbformat": 4,
 "nbformat_minor": 2
}
